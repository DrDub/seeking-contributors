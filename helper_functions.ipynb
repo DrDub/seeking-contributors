{
 "cells": [
  {
   "cell_type": "code",
   "execution_count": 3,
   "metadata": {},
   "outputs": [
    {
     "name": "stdout",
     "output_type": "stream",
     "text": [
      "<a href=\"https://github.com/grahamwaters/lorebook_generator_for_novelai\"><img width=\"278\" src=\"https://denvercoder1-github-readme-stats.vercel.app/api/pin/?username=grahamwaters&repo=lorebook_generator_for_novelai&theme=react&bg_color=1F222E&title_color=9ACD32&hide_border=true&icon_color=FF4500&show_icons=false\" alt=\"lorebook_generator_for_novelai\"></a>\n"
     ]
    }
   ],
   "source": [
    "import os\n",
    "\n",
    "username = 'grahamwaters'\n",
    "project_name = 'lorebook_generator_for_novelai'\n",
    "\n",
    "def create_project_tile(username,project_name):\n",
    "    \"\"\"\n",
    "    create_project_tile creates a markdown ready tile for the project.\n",
    "    example url: https://github.com/grahamwaters/seeking-contributors\n",
    "    :param username: your github user name as it appears in the url of your profile (i.e. 'grahamwaters' in the url above).\n",
    "    :type username: str\n",
    "    :param project_name: the exact name of the project as it appears in the url of it's repo main page. In the example above it would be 'seeking-contributors'\n",
    "    :type project_name: str\n",
    "    :return: the markdown text for your project tile.\n",
    "    :rtype: str\n",
    "    \"\"\"\n",
    "    markdown_string = \"\"\"<a href=\"https://github.com/{}/{}\"><img width=\"278\" src=\"https://denvercoder1-github-readme-stats.vercel.app/api/pin/?username={}&repo={}&theme=react&bg_color=1F222E&title_color=9ACD32&hide_border=true&icon_color=FF4500&show_icons=false\" alt=\"{}\"></a>\"\"\".format(username,project_name,username,project_name,project_name)\n",
    "    return markdown_string\n",
    "\n",
    "\n",
    "markdown_string = create_project_tile(username,project_name)\n",
    "\n",
    "print(markdown_string)\n",
    "\n"
   ]
  }
 ],
 "metadata": {
  "kernelspec": {
   "display_name": "Python 3.9.6 64-bit",
   "language": "python",
   "name": "python3"
  },
  "language_info": {
   "codemirror_mode": {
    "name": "ipython",
    "version": 3
   },
   "file_extension": ".py",
   "mimetype": "text/x-python",
   "name": "python",
   "nbconvert_exporter": "python",
   "pygments_lexer": "ipython3",
   "version": "3.9.6"
  },
  "orig_nbformat": 4,
  "vscode": {
   "interpreter": {
    "hash": "7812ea015bdcee6f23a998adcdd2ef97c151c0c241b7b7070987d9313e41299d"
   }
  }
 },
 "nbformat": 4,
 "nbformat_minor": 2
}
