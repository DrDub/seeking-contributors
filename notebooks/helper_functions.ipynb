{
 "cells": [
  {
   "cell_type": "code",
   "execution_count": 23,
   "metadata": {},
   "outputs": [
    {
     "name": "stdout",
     "output_type": "stream",
     "text": [
      "<a href=\"https://github.com/grahamwaters/seeking-contributors\"><img width=\"278\" src=\"https://denvercoder1-github-readme-stats.vercel.app/api/pin/?username=grahamwaters&repo=seeking-contributors&theme=react&bg_color=1F222E&title_color=9ACD32&hide_border=true&icon_color=FF4500&show_icons=false\" alt=\"seeking-contributors\"></a>\n",
      "\n",
      "Paste the block below into the the bottom row of the table at the end of the readme.\n",
      "\n",
      "| [seeking-contributors](https://github.com/grahamwaters/seeking-contributors) |  ![last commit](https://img.shields.io/github/last-commit/grahamwaters/seeking-contributors) ![code size](https://img.shields.io/github/languages/code-size/grahamwaters/seeking-contributors) ![commit activity](https://img.shields.io/github/commit-activity/m/grahamwaters/seeking-contributors) ![issues](https://img.shields.io/github/issues/grahamwaters/seeking-contributors) | The Seeking contributors hub. |\n"
     ]
    }
   ],
   "source": [
    "\n",
    "def create_project_tile(project_url):\n",
    "\n",
    "    \"\"\"\n",
    "    create_project_tile creates a markdown ready tile for the project.\n",
    "    example url: https://github.com/{}/seeking-contributors\n",
    "    :param username: your github user name as it appears in the url of your profile (i.e. '{}' in the url above).\n",
    "    :type username: str\n",
    "    :param project_name: the exact name of the project as it appears in the url of it's repo main page. In the example above it would be 'seeking-contributors'\n",
    "    :type project_name: str\n",
    "    :return: the markdown text for your project tile.\n",
    "    :rtype: str\n",
    "    \"\"\"\n",
    "    project_name = project_url.split('/')[-1] # negative index to get last\n",
    "    username = project_url.split('/')[-2] # get the username that came before the second to last /\n",
    "    markdown_string = \"\"\"<a href=\"https://github.com/{}/{}\"><img width=\"278\" src=\"https://denvercoder1-github-readme-stats.vercel.app/api/pin/?username={}&repo={}&theme=react&bg_color=1F222E&title_color=9ACD32&hide_border=true&icon_color=FF4500&show_icons=false\" alt=\"{}\"></a>\"\"\".format(username,project_name,username,project_name,project_name)\n",
    "    if beta:\n",
    "        # summarize the project by getting the readme file and reading just the first paragraph of it and summarizing it.\n",
    "        # step 1 get the text from the readme file using requests and beautiful soup (bs4) libraries and finding the first paragraph.\n",
    "        text = get_text_from_url(project_url)\n",
    "        # the first paragraph is the first line of the text\n",
    "        first_paragraph = text.split('\\n')[0] # split the text by new line and get the first element\n",
    "        # if the first paragraph is less than 100 characters, then it's probably not a good summary, so move on to the next paragraph.\n",
    "        if len(first_paragraph) < 100:\n",
    "            first_paragraph = text.split('\\n')[1]\n",
    "        if len(first_paragraph) < 100:\n",
    "            first_paragraph = text.split('\\n')[2]\n",
    "        if len(first_paragraph) < 100:\n",
    "            first_paragraph = text.split('\\n')[3]\n",
    "        \n",
    "        print(first_paragraph)\n",
    "        # step 2 summarize the text using the summarize function from the gensim library\n",
    "        summary = run_summarization(first_paragraph)\n",
    "        # step 3 add the summary to the markdown string\n",
    "        #markdown_string += \"\"\"<p align=\"center\">{}</p>\"\"\".format(summary)\n",
    "    else:\n",
    "        summary = input(\"Enter a short description of the project: \")\n",
    "    table_row  = \"\"\"| [{}](https://github.com/{}/{}) |  ![last commit](https://img.shields.io/github/last-commit/{}/{}) ![code size](https://img.shields.io/github/languages/code-size/{}/{}) ![commit activity](https://img.shields.io/github/commit-activity/m/{}/{}) ![issues](https://img.shields.io/github/issues/{}/{}) | {} |\"\"\".format(project_name,username,project_name,username,project_name,username,project_name,username,project_name,username,project_name,summary)\n",
    "    \n",
    "    # concatenate the two strings with four line breaks in between them\n",
    "    result =  'Paste the block below into the the bottom row of the table in the project_board.md file.' + '\\n\\n' + markdown_string + '\\n\\n' + 'Paste the block below under the appropriate heading in the main readme.md file.' + '\\n\\n' + table_row\n",
    "    return result\n",
    "\n",
    "\n",
    "project_url = input(\"Enter the url of your project: \")\n",
    "\n",
    "markdown_string = create_project_tile(project_url)\n",
    "\n",
    "print(markdown_string)"
   ]
  },
  {
   "cell_type": "code",
   "execution_count": 24,
   "metadata": {},
   "outputs": [],
   "source": [
    "# urls = ['https://github.com/talkygram/webcrawly','https://github.com/BKAmos/DataScience','https://github.com/VanillaLattA/DatascienceShortcuts']\n",
    "\n",
    "# for url in urls:\n",
    "#     markdown_string = create_project_tile(url)\n",
    "#     print(markdown_string)"
   ]
  },
  {
   "cell_type": "code",
   "execution_count": null,
   "metadata": {},
   "outputs": [],
   "source": [
    "\n",
    "\n"
   ]
  }
 ],
 "metadata": {
  "kernelspec": {
   "display_name": "Python 3.9.6 ('master_env_temp')",
   "language": "python",
   "name": "python3"
  },
  "language_info": {
   "codemirror_mode": {
    "name": "ipython",
    "version": 3
   },
   "file_extension": ".py",
   "mimetype": "text/x-python",
   "name": "python",
   "nbconvert_exporter": "python",
   "pygments_lexer": "ipython3",
   "version": "3.9.6"
  },
  "orig_nbformat": 4,
  "vscode": {
   "interpreter": {
    "hash": "666dfdc1c3434f60b2f64fdb13e0b185df8f5878ddae1a39c75e1eb2af091f89"
   }
  }
 },
 "nbformat": 4,
 "nbformat_minor": 2
}
